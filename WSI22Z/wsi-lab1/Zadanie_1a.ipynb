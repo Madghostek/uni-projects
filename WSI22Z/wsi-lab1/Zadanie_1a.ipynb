{
  "cells": [
    {
      "cell_type": "markdown",
      "source": [
        "#Zadanie 1a (3 pkt)\n",
        "Celem zadania jest rozwiązanie problemu plecakowego dwoma metodami - brute force oraz według zadanej heurystyki. Należy zaimplementować metody klasy *KnapSack* - *solve_knapsack_brute_force* oraz *solve_knapsack_pw_ratio*. Poprzez rozwiązanie problemu rozumiemy podanie które przedmioty (indeksy w tablicy) należy spakować do plecaka oraz jaka jest sumaryczna wartość i masa plecaka. Punktacja wygląda następująco:\n",
        "\n",
        "\n",
        "*   Rozwiązanie problemu metodą brute force. *Podpowiedź: do wygenerowania wszystkich permutacji można użyć funkcji product z biblioteki itertools* - **1.5 pkt**\n",
        "*   Rozwiązanie problemu według heurystyki - do plecaka pakujemy przedmioty według stosunku wartości do wagi - **1 pkt**\n",
        "*   Dla metody brute force proszę wygenerować wykres zależności czasu wykonywania metody od liczby elementów w tablicach *weights* i *profits* (do obu tablic należy stopniowo dopisywać po jednym elemencie, np. 10-krotnie, wartości elementów nie mają znaczenia). Proszę również odpowiedzieć na pytania (w osobnej komórce tekstowej) - czy obie metody mają takie same rozwiązania? Jakie są Pani / Pana wnioski? - **0.5 pkt**\n",
        "\n",
        "\n"
      ],
      "metadata": {
        "id": "88lxDms-saqt"
      }
    },
    {
      "cell_type": "code",
      "source": [
        "import numpy as np\n",
        "import itertools\n",
        "import random\n",
        "import time"
      ],
      "outputs": [],
      "execution_count": 26,
      "metadata": {
        "id": "1X0PiYKZ2w63"
      }
    },
    {
      "cell_type": "code",
      "source": [
        "weights= np.array([8, 3, 5, 2])\n",
        "capacity = 9\n",
        "profits = np.array([16, 8, 9, 6])"
      ],
      "outputs": [],
      "execution_count": 27,
      "metadata": {
        "id": "_IOCNGpCuy8s"
      }
    },
    {
      "cell_type": "code",
      "source": [
        "class KnapSack:\n",
        "  def __init__(self, profits, weights, capacity):\n",
        "    self.profits = profits\n",
        "    self.weights = weights\n",
        "    self.capacity = capacity\n",
        "\n",
        "  def solve_knapsack_brute_force(self):\n",
        "    best = 0\n",
        "    bestSet = []\n",
        "    allChoices = itertools.product([0,1],repeat=len(self.profits))\n",
        "    for choice in allChoices:\n",
        "      weight = sum(self.weights[i] for i in range(len(self.weights)) if choice[i])\n",
        "      if weight<=self.capacity:\n",
        "        currentProfit = sum(self.profits[i] for i in range(len(self.weights)) if choice[i])\n",
        "        if currentProfit>best:\n",
        "          best,bestSet=currentProfit,choice\n",
        "\n",
        "    # prepare answer\n",
        "    return {\"profit\": best, \"indexes\":bestSet}\n",
        "\n",
        "\n",
        "  def solve_knapsack_pw_ratio(self):\n",
        "    ratios = {i:self.profits[i]/self.weights[i] for i in range(len(self.profits))} # dict of all ratios, by index\n",
        "    #print(ratios)\n",
        "    ratios = sorted(ratios,key=ratios.get,reverse=True) # list of best valued indexes, first element is the best and so on\n",
        "    # keep adding elements until capacity reached\n",
        "    result = [0]*len(self.weights)\n",
        "    currentWeight=0\n",
        "    currentProfit=0\n",
        "    toAdd=0 # which index from the available items will be added next\n",
        "    while toAdd<len(self.weights) and currentWeight+self.weights[ratios[toAdd]]<=self.capacity:\n",
        "      result[ratios[toAdd]]=1\n",
        "      currentWeight+=self.weights[ratios[toAdd]]\n",
        "      currentProfit+=self.profits[ratios[toAdd]]\n",
        "      toAdd+=1\n",
        "    return {\"profit\": currentProfit, \"indexes\":result}\n"
      ],
      "outputs": [],
      "execution_count": 28,
      "metadata": {
        "id": "s5J82x9WuSOh"
      }
    },
    {
      "cell_type": "code",
      "source": [
        "### example\n",
        "\n",
        "knapsack1  = KnapSack(profits,weights,capacity)\n",
        "print(\"brute:\",knapsack1.solve_knapsack_brute_force())\n",
        "print(\"heuristics by ratio:\",knapsack1.solve_knapsack_pw_ratio())"
      ],
      "outputs": [
        {
          "output_type": "stream",
          "name": "stdout",
          "text": "brute: {'profit': 17, 'indexes': (0, 1, 1, 0)}\nheuristics by ratio: {'profit': 14, 'indexes': [0, 1, 0, 1]}\n"
        }
      ],
      "execution_count": 29,
      "metadata": {}
    },
    {
      "cell_type": "code",
      "source": [
        "### now benchmark both methods, with increasing items count\n",
        "### this takes about 20 seconds\n",
        "\n",
        "simulationSize = 20\n",
        "plotData = {'brute':[0]*simulationSize, 'heuristic':[0]*simulationSize}\n",
        "\n",
        "knapsack2 = KnapSack([],[],10)\n",
        "for count in range(simulationSize):\n",
        "\n",
        "    knapsack2.profits=np.append(knapsack2.profits,random.randint(1,10))\n",
        "    knapsack2.weights=np.append(knapsack2.weights,random.randint(1,10))\n",
        "\n",
        "    bruteStart = time.time()\n",
        "    knapsack2.solve_knapsack_brute_force()\n",
        "    plotData['brute'][count]=time.time()-bruteStart\n",
        "\n",
        "    heurStart = time.time()\n",
        "    knapsack2.solve_knapsack_pw_ratio()\n",
        "    plotData['heuristic'][count]=time.time()-heurStart\n",
        "\n",
        "#print(plotData)\n",
        "\n",
        "\n",
        "\n"
      ],
      "outputs": [],
      "execution_count": 30,
      "metadata": {}
    },
    {
      "cell_type": "code",
      "source": [
        "%matplotlib inline\n",
        "from matplotlib import pyplot as plt\n",
        "\n",
        "# elements to choose from vs time it took\n",
        "plt.plot(range(simulationSize),plotData['brute'])\n",
        "plt.plot(range(simulationSize),plotData['heuristic'])\n",
        "plt.xlabel(\"Elements count\")\n",
        "plt.ylabel(\"Time (seconds)\")"
      ],
      "outputs": [
        {
          "output_type": "execute_result",
          "execution_count": 31,
          "data": {
            "text/plain": "Text(0, 0.5, 'Time (seconds)')"
          },
          "metadata": {}
        },
        {
          "output_type": "display_data",
          "data": {
            "image/png": "[encoded data removed]",
            "text/plain": "<Figure size 640x480 with 1 Axes>"
          },
          "metadata": {}
        }
      ],
      "execution_count": 31,
      "metadata": {}
    },
    {
      "cell_type": "markdown",
      "source": [
        "# Wnioski\n",
        "* Metoda brute force, choć jest wolna, to gwarantuje poprawne rozwiązanie. Ma złożoność O(2^n), ponieważ każdy element można albo wziąć, albo nie\n",
        "* Metoda zachłanna ma złożoność zaledwie O(n), lecz nie gwarantuje najlepszego rozwiązania, ponieważ na przykład zamiast brać jakiś przedmiot X, lepiej jest wziąć dwa inne o gorszym współczynniku, które lepiej uzupełnią plecak, czego ta metoda nie jest w stanie sprawdzić."
      ],
      "metadata": {}
    }
  ],
  "metadata": {
    "colab": {
      "collapsed_sections": [],
      "provenance": []
    },
    "kernelspec": {
      "display_name": "Python 3.8.10 64-bit",
      "language": "python",
      "name": "python3"
    },
    "language_info": {
      "codemirror_mode": {
        "name": "ipython",
        "version": 3
      },
      "file_extension": ".py",
      "mimetype": "text/x-python",
      "name": "python",
      "nbconvert_exporter": "python",
      "pygments_lexer": "ipython3",
      "version": "3.8.10"
    },
    "vscode": {
      "interpreter": {
        "hash": "e7370f93d1d0cde622a1f8e1c04877d8463912d04d973331ad4851f04de6915a"
      }
    },
    "nteract": {
      "version": "nteract-front-end@1.0.0"
    }
  },
  "nbformat": 4,
  "nbformat_minor": 0
}