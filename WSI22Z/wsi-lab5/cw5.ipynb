{
 "cells": [
  {
   "cell_type": "markdown",
   "metadata": {
    "collapsed": false
   },
   "source": [
    "# Zadanie 5\n",
    "\n",
    "\n",
    "Celem ćwiczenia jest implementacja perceptronu wielowarstwowego oraz wybranego algorytmu optymalizacji gradientowej z algorytmem propagacji wstecznej.\n",
    "\n",
    "Następnie należy wytrenować perceptron wielowarstwowy do klasyfikacji zbioru danych [MNIST](http://yann.lecun.com/exdb/mnist/). Zbiór MNIST dostępny jest w pakiecie `scikit-learn`.\n",
    "\n",
    "Punktacja:\n",
    "1. Implementacja propagacji do przodu (`forward`) [1 pkt]\n",
    "2. Implementacja wstecznej propagacji (zademonstrowana na bramce XOR) (`backward`) [2 pkt]\n",
    "3. Przeprowadzenie eksperymentów na zbiorze MNIST, w tym:\n",
    "    1. Porównanie co najmniej dwóch architektur sieci [1 pkt]\n",
    "    2. Przetestowanie każdej architektury na conajmniej 3 ziarnach [1 pkt]\n",
    "    3. Wnioski 1.[5 pkt]\n",
    "4. Jakość kodu 0.[5 pkt]\n",
    "\n",
    "Polecane źródła - teoria + intuicja:\n",
    "1. [Karpathy, CS231n Winter 2016: Lecture 4: Backpropagation, Neural Networks 1](https://www.youtube.com/watch?v=i94OvYb6noo&ab_channel=AndrejKarpathy)\n",
    "2. [3 Blude one Brown, Backpropagation calculus | Chapter 4, Deep learning\n",
    "](https://www.youtube.com/watch?v=tIeHLnjs5U8&t=4s&ab_channel=3Blue1Brown)\n"
   ]
  },
  {
   "cell_type": "code",
   "execution_count": 21,
   "metadata": {
    "collapsed": false
   },
   "outputs": [],
   "source": [
    "from sklearn.datasets import fetch_openml\n",
    "from sklearn.model_selection import train_test_split\n",
    "import matplotlib.pyplot as plt  # showing digits\n",
    "from PIL import Image           # loading from file\n",
    "\n",
    "from abc import abstractmethod, ABC\n",
    "from typing import List\n",
    "import numpy as np\n",
    "\n",
    "#np.random.seed(1)\n",
    "\n",
    "XOR_x = np.array([[[0, 0]], [[0, 1]], [[1, 0]], [[1, 1]]])\n",
    "XOR_y = np.array([[[0]], [[1]], [[1]], [[0]]])"
   ]
  },
  {
   "cell_type": "code",
   "execution_count": 24,
   "metadata": {},
   "outputs": [],
   "source": [
    "mnist = fetch_openml('mnist_784',version=1,as_frame=False)"
   ]
  },
  {
   "attachments": {},
   "cell_type": "markdown",
   "metadata": {},
   "source": [
    "### Parametry"
   ]
  },
  {
   "cell_type": "code",
   "execution_count": 78,
   "metadata": {},
   "outputs": [],
   "source": [
    "\n",
    "# turns 0-9 numbers into 0,1 array\n",
    "def NumbersToVectors(classes: np.ndarray):\n",
    "    def AsVector(n, k):\n",
    "        return np.array([[1 if x == n else 0 for x in range(k)]])\n",
    "\n",
    "    biggest = int(max(classes))\n",
    "    out = []\n",
    "    for num in classes:\n",
    "        out.append(AsVector(num, biggest+1))  # 0-9, not 1-9\n",
    "    return out\n",
    "\n",
    "# parameters\n",
    "# epsilon is used to stop training when desired accuracy is hit\n",
    "# flattenedImages = np.array([[np.ndarray.flatten(img)]\n",
    "#                           for img in mnist.data])\n",
    "flattenedImages = np.array([ np.array([x]) for x in mnist.data])\n",
    "targetVectors = NumbersToVectors(list(map(int,mnist.target)))\n",
    "x_train, x_test, y_train, y_test = train_test_split(flattenedImages, targetVectors, test_size=0.8, random_state=123)\n",
    "learningRate = 0.01\n",
    "epochs = 4\n",
    "\n",
    "epsilonXOR = 0.000001  # only for XOR\n",
    "architectureXOR = [3, 3]\n",
    "# MNIST\n",
    "architectureMNIST = [50, 20, 10]"
   ]
  },
  {
   "cell_type": "code",
   "execution_count": 79,
   "metadata": {
    "collapsed": false
   },
   "outputs": [],
   "source": [
    "class Layer(ABC):\n",
    "    \"\"\"Basic building block of the Neural Network\"\"\"\n",
    "\n",
    "    def __init__(self) -> None:\n",
    "        self._learning_rate = 0.01\n",
    "\n",
    "    @abstractmethod\n",
    "    def forward(self, x: np.ndarray) -> np.ndarray:\n",
    "        \"\"\"Forward propagation of x through layer\"\"\"\n",
    "        pass\n",
    "\n",
    "    @abstractmethod\n",
    "    def backward(self, output_error_derivative) -> np.ndarray:\n",
    "        \"\"\"Backward propagation of output_error_derivative through layer\"\"\"\n",
    "        pass\n",
    "\n",
    "    @property\n",
    "    def learning_rate(self):\n",
    "        return self._learning_rate\n",
    "\n",
    "    @learning_rate.setter\n",
    "    def learning_rate(self, learning_rate):\n",
    "        assert learning_rate < 1, f\"Given learning_rate={learning_rate} is larger than 1\"\n",
    "        assert learning_rate > 0, f\"Given learning_rate={learning_rate} is smaller than 0\"\n",
    "        self._learning_rate = learning_rate\n",
    "\n",
    "\n",
    "class FullyConnected(Layer):\n",
    "    def __init__(self, input_size: int, output_size: int) -> None:\n",
    "        super().__init__()\n",
    "        self.input_size = input_size\n",
    "        self.output_size = output_size\n",
    "\n",
    "        # tanh is symmetrical around 0, so let's roll random values\n",
    "        # around 0 too\n",
    "        # [-1,1), mxn matrix\n",
    "        self.weights = (np.random.rand(input_size, output_size)-0.5)/2\n",
    "        # [-1,1) x input_size array\n",
    "        self.bias = (np.random.rand(1, output_size)-0.5)/2\n",
    "\n",
    "        self.inputs = None\n",
    "\n",
    "    def forward(self, x: np.ndarray) -> np.ndarray:\n",
    "        '''\n",
    "        Multiplies incoming values by weights and adds bias.\n",
    "        X⋅weights+bias\n",
    "         ^ dot product\n",
    "        '''\n",
    "        # remember this for backprop later\n",
    "        self.inputs = np.array(x)  # @TODO: Copy needed?\n",
    "\n",
    "        return x@self.weights+self.bias\n",
    "\n",
    "    def backward(self, output_error_derivative: np.ndarray, learningRate) -> np.ndarray:\n",
    "        '''\n",
    "        From layer point of view, I am interested in\n",
    "        how weights and biases influence error, and we want\n",
    "        to minimise that. so we need dy/dw and dy/db, then follow the gradient.\n",
    "\n",
    "        but other layers want the derivative too, so tell them how their\n",
    "        data that is being fed here (input) changes the error.\n",
    "        Therefore return dy/dx.\n",
    "        '''\n",
    "        wGradient = self.inputs.T@output_error_derivative\n",
    "\n",
    "        #!!!!!!!!!!!!!!!!!!!!!!!!!!!!!!!!!!!!!!!!!!!!!!!!!!!\n",
    "        #!!!!!!!!!!!!!!!!!!!!!!!!!!!!!!!!!!!!!!!!!!!!!!!!!!!\n",
    "        # this must be calculated before updating weights...\n",
    "        # siedziałem do 3 w nocy żeby ten błąd znaleźć :)\n",
    "        result = output_error_derivative@self.weights.T\n",
    "\n",
    "        # subtract from weights, but not fully\n",
    "        self.weights -= wGradient*learningRate\n",
    "\n",
    "        # same for biases\n",
    "        self.bias -= learningRate * output_error_derivative\n",
    "\n",
    "        # return dy/dx\n",
    "\n",
    "        return result\n",
    "\n",
    "\n",
    "class Tanh(Layer):\n",
    "    def __init__(self) -> None:\n",
    "        super().__init__()\n",
    "        self.inputs = None\n",
    "\n",
    "    def forward(self, x: np.ndarray) -> np.ndarray:\n",
    "        self.inputs = x\n",
    "        return np.tanh(x)\n",
    "\n",
    "    def backward(self, output_error_derivative, l) -> np.ndarray:\n",
    "        # no weights to update here, pass back the derivative\n",
    "        # from chain rule (?):\n",
    "        # f(x) - our function (tanh)\n",
    "        # y - error\n",
    "        # x - our layer input\n",
    "        # dy/dx = dy/df * df/dx\n",
    "        return (1-np.tanh(self.inputs)**2) * output_error_derivative\n",
    "\n",
    "\n",
    "class Loss:\n",
    "    def __init__(self, loss_function: callable, loss_function_derivative: callable) -> None:\n",
    "        self.loss_function = loss_function\n",
    "        self.loss_function_derivative = loss_function_derivative\n",
    "\n",
    "    def loss(self, x: np.ndarray, y: np.ndarray) -> float:\n",
    "        \"\"\"Loss function for a particular x \"\"\"\n",
    "        return self.loss_function(x, y)\n",
    "\n",
    "    def loss_derivative(self, x: np.ndarray, y: np.ndarray) -> np.ndarray:\n",
    "        \"\"\"Loss function derivative for a particular x and y\"\"\"\n",
    "        return self.loss_function_derivative(x, y)\n",
    "\n",
    "\n",
    "class Network:\n",
    "    def __init__(self, layers: List[Layer], learning_rate: float) -> None:\n",
    "        self.layers = layers\n",
    "        self.learning_rate = learning_rate\n",
    "        self.loss = None\n",
    "\n",
    "    def compile(self, loss: Loss) -> None:\n",
    "        \"\"\"Define the loss function and loss function derivative\"\"\"\n",
    "        self.loss = loss\n",
    "\n",
    "    def __call__(self, x: np.ndarray) -> np.ndarray:\n",
    "        \"\"\"Forward propagation of x through all layers\"\"\"\n",
    "        current_input = x\n",
    "        for layer in self.layers:\n",
    "            current_input = layer.forward(current_input)\n",
    "        return current_input\n",
    "\n",
    "    def fit(self,\n",
    "            x_train: np.ndarray,\n",
    "            y_train: np.ndarray,\n",
    "            epochs: int,\n",
    "            epsilon: float,\n",
    "            verbose: int = 0) -> None:\n",
    "        \"\"\"Fit the network to the training data\"\"\"\n",
    "\n",
    "        for e in range(epochs):\n",
    "            if verbose:\n",
    "                print(\"epoch\", e+1)\n",
    "            errorsum = 0\n",
    "            for sample_x, target in zip(x_train, y_train):\n",
    "                # forward pass\n",
    "                result = self(sample_x)\n",
    "\n",
    "                errorsum += self.loss.loss_function(result, target)\n",
    "\n",
    "                derivative = self.loss.loss_derivative(result, target)\n",
    "                for layer in self.layers[::-1]:\n",
    "                    derivative = layer.backward(derivative, self.learning_rate)\n",
    "            # sometimes it excells in some samples and is atricious at others,\n",
    "            # therefore sum the errors of all samples and print this\n",
    "            if verbose:\n",
    "                print(\"epoch error sum:\", errorsum/len(x_train))\n",
    "            #if errorsum/len(x_train) < epsilon:\n",
    "            #    return\n",
    "\n",
    "def CreateNetwork(inputSize, networkShape, outputSize, rate):\n",
    "    networkShape.append(outputSize)  # easier looping\n",
    "    inputLayer = FullyConnected(inputSize, networkShape[0])\n",
    "    inputTanh = Tanh()\n",
    "    hiddenLayers = []\n",
    "    for i in range(len(networkShape)-1):\n",
    "        hiddenLayers.append(FullyConnected(networkShape[i], networkShape[i+1]))\n",
    "        hiddenLayers.append(Tanh())\n",
    "\n",
    "    # remove last tanh? Or no difference?\n",
    "    allLayers = [inputLayer, inputTanh]+hiddenLayers\n",
    "\n",
    "    return Network(allLayers, rate)\n",
    "\n",
    "\n",
    "# Mean Squared Error\n",
    "def msefunc(result, target):\n",
    "    return np.mean(np.power(result-target, 2))\n",
    "\n",
    "\n",
    "def msederivative(result, target):\n",
    "    return 2*(result-target)/result.size\n",
    "\n",
    "\n",
    "\n",
    "# expects two training arrays of samples vs outputs\n",
    "def FittedNetwork(inputs, outputs, networkShape, learningRate, epochCount, epsilon):\n",
    "\n",
    "    inputSize = inputs[0].size\n",
    "    outputSize = outputs[0].size\n",
    "\n",
    "    # driver code\n",
    "    net = CreateNetwork(inputSize, networkShape,\n",
    "                        outputSize, learningRate)\n",
    "\n",
    "    MSE = Loss(msefunc, msederivative)\n",
    "    net.compile(MSE)\n",
    "\n",
    "    net.fit(x_train, y_train, epochCount, epsilon, verbose=False)\n",
    "\n",
    "    return net"
   ]
  },
  {
   "cell_type": "code",
   "execution_count": 80,
   "metadata": {},
   "outputs": [],
   "source": [
    "\n",
    "MNISTnetwork = FittedNetwork(x_train,  y_train,\n",
    "                            architectureMNIST, learningRate, epochs, 0)"
   ]
  },
  {
   "cell_type": "code",
   "execution_count": 81,
   "metadata": {},
   "outputs": [
    {
     "name": "stdout",
     "output_type": "stream",
     "text": [
      "Train efficiency: 75.93%\n"
     ]
    },
    {
     "data": {
      "image/png": "[encoded data removed]",
      "text/plain": [
       "<Figure size 640x480 with 1 Axes>"
      ]
     },
     "metadata": {},
     "output_type": "display_data"
    },
    {
     "name": "stdout",
     "output_type": "stream",
     "text": [
      "target:  6\n",
      "result:  [[ 0.06  0.05 -0.01 -0.1   0.16  0.1   0.64 -0.01  0.03 -0.02]]\n",
      "Guess: 6\n"
     ]
    },
    {
     "data": {
      "image/png": "[encoded data removed]",
      "text/plain": [
       "<Figure size 640x480 with 1 Axes>"
      ]
     },
     "metadata": {},
     "output_type": "display_data"
    },
    {
     "name": "stdout",
     "output_type": "stream",
     "text": [
      "target:  7\n",
      "result:  [[ 0.06 -0.01  0.01 -0.09  0.02 -0.1  -0.02  0.74  0.05  0.19]]\n",
      "Guess: 7\n"
     ]
    },
    {
     "data": {
      "image/png": "[encoded data removed]",
      "text/plain": [
       "<Figure size 640x480 with 1 Axes>"
      ]
     },
     "metadata": {},
     "output_type": "display_data"
    },
    {
     "name": "stdout",
     "output_type": "stream",
     "text": [
      "target:  8\n",
      "result:  [[ 0.23  0.08 -0.01  0.01  0.41 -0.11 -0.03  0.02  0.16  0.23]]\n",
      "Guess: 4\n"
     ]
    },
    {
     "data": {
      "image/png": "[encoded data removed]",
      "text/plain": [
       "<Figure size 640x480 with 1 Axes>"
      ]
     },
     "metadata": {},
     "output_type": "display_data"
    },
    {
     "name": "stdout",
     "output_type": "stream",
     "text": [
      "target:  3\n",
      "result:  [[-0.09  0.48 -0.04  0.62 -0.16  0.07  0.12 -0.    0.03 -0.06]]\n",
      "Guess: 3\n"
     ]
    },
    {
     "data": {
      "image/png": "[encoded data removed]",
      "text/plain": [
       "<Figure size 640x480 with 1 Axes>"
      ]
     },
     "metadata": {},
     "output_type": "display_data"
    },
    {
     "name": "stdout",
     "output_type": "stream",
     "text": [
      "target:  6\n",
      "result:  [[ 0.16  0.05  0.13 -0.09  0.17  0.05  0.25 -0.01  0.22  0.05]]\n",
      "Guess: 6\n"
     ]
    },
    {
     "data": {
      "image/png": "[encoded data removed]",
      "text/plain": [
       "<Figure size 640x480 with 1 Axes>"
      ]
     },
     "metadata": {},
     "output_type": "display_data"
    },
    {
     "name": "stdout",
     "output_type": "stream",
     "text": [
      "target:  6\n",
      "result:  [[ 0.16  0.05  0.13 -0.09  0.17  0.05  0.25 -0.01  0.22  0.05]]\n",
      "Guess: 6\n"
     ]
    },
    {
     "data": {
      "image/png": "[encoded data removed]",
      "text/plain": [
       "<Figure size 640x480 with 1 Axes>"
      ]
     },
     "metadata": {},
     "output_type": "display_data"
    },
    {
     "name": "stdout",
     "output_type": "stream",
     "text": [
      "result:  [[ 0.06 -0.08 -0.08  0.33 -0.03 -0.02  0.11  0.63 -0.05  0.13]]\n",
      "Guess: 7\n"
     ]
    },
    {
     "data": {
      "image/png": "[encoded data removed]",
      "text/plain": [
       "<Figure size 640x480 with 1 Axes>"
      ]
     },
     "metadata": {},
     "output_type": "display_data"
    },
    {
     "name": "stdout",
     "output_type": "stream",
     "text": [
      "target:  0\n",
      "result:  [[ 0.78  0.03 -0.03 -0.01  0.01  0.1  -0.01  0.04 -0.13  0.  ]]\n",
      "Guess: 0\n"
     ]
    },
    {
     "data": {
      "image/png": "[encoded data removed]",
      "text/plain": [
       "<Figure size 640x480 with 1 Axes>"
      ]
     },
     "metadata": {},
     "output_type": "display_data"
    },
    {
     "name": "stdout",
     "output_type": "stream",
     "text": [
      "target:  1\n",
      "result:  [[ 0.07  0.81  0.05 -0.09 -0.06  0.05  0.03 -0.07  0.02  0.05]]\n",
      "Guess: 1\n"
     ]
    },
    {
     "ename": "ValueError",
     "evalue": "invalid literal for int() with base 10: ''",
     "output_type": "error",
     "traceback": [
      "\u001b[0;31m---------------------------------------------------------------------------\u001b[0m",
      "\u001b[0;31mValueError\u001b[0m                                Traceback (most recent call last)",
      "Cell \u001b[0;32mIn [81], line 47\u001b[0m\n\u001b[1;32m     43\u001b[0m         \u001b[39mprint\u001b[39m(\u001b[39m\"\u001b[39m\u001b[39mresult: \u001b[39m\u001b[39m\"\u001b[39m, result\u001b[39m.\u001b[39mround(\u001b[39m2\u001b[39m))\n\u001b[1;32m     44\u001b[0m         \u001b[39mprint\u001b[39m(\u001b[39mf\u001b[39m\u001b[39m\"\u001b[39m\u001b[39mGuess: \u001b[39m\u001b[39m{\u001b[39;00mnp\u001b[39m.\u001b[39margmax(result)\u001b[39m}\u001b[39;00m\u001b[39m\"\u001b[39m)\n\u001b[0;32m---> 47\u001b[0m doMNIST()\n",
      "Cell \u001b[0;32mIn [81], line 35\u001b[0m, in \u001b[0;36mdoMNIST\u001b[0;34m()\u001b[0m\n\u001b[1;32m     33\u001b[0m     result \u001b[39m=\u001b[39m MNISTnetwork(flattened)\n\u001b[1;32m     34\u001b[0m \u001b[39melse\u001b[39;00m:\n\u001b[0;32m---> 35\u001b[0m     i \u001b[39m=\u001b[39m \u001b[39mint\u001b[39;49m(i)\n\u001b[1;32m     36\u001b[0m     reshaped \u001b[39m=\u001b[39m np\u001b[39m.\u001b[39mreshape(mnist\u001b[39m.\u001b[39mdata[i],(\u001b[39m28\u001b[39m,\u001b[39m28\u001b[39m))\n\u001b[1;32m     37\u001b[0m     plt\u001b[39m.\u001b[39mimshow(reshaped, cmap\u001b[39m=\u001b[39m\u001b[39m'\u001b[39m\u001b[39mbinary\u001b[39m\u001b[39m'\u001b[39m)\n",
      "\u001b[0;31mValueError\u001b[0m: invalid literal for int() with base 10: ''"
     ]
    }
   ],
   "source": [
    "def doXOR(epsilon, architecture):\n",
    "    network = FittedNetwork(XOR_x, XOR_y, architecture,\n",
    "                            learningRate, epochs, epsilon)\n",
    "\n",
    "    result1 = network([0, 0])\n",
    "    result2 = network([0, 1])\n",
    "    result3 = network([1, 0])\n",
    "    result4 = network([1, 1])\n",
    "\n",
    "    print(\"results:\", result1, result2, result3, result4)\n",
    "\n",
    "\n",
    "def doMNIST():\n",
    "    # 5th index image is labeled as 5\n",
    "    # but it looks like 9, can't blame the network\n",
    "    # plt.imshow(mnist.images[5], cmap='binary')\n",
    "    # plt.show()\n",
    "    \n",
    "    counter = 0\n",
    "    for x, y in zip(x_test, y_test):\n",
    "        if np.argmax(MNISTnetwork(x)) == np.argmax(y):\n",
    "            counter += 1\n",
    "    print(f\"Train efficiency: {100*counter/len(y_test):.2f}%\")\n",
    "\n",
    "    while True:\n",
    "        i = input(f\"\\nType index (max {len(flattenedImages)-1}) or 'file':\")\n",
    "        if i == \"file\":\n",
    "            userImage = np.asarray(Image.open(\n",
    "                'image.bmp').convert('L'), dtype='float64')/16\n",
    "            plt.imshow(userImage, cmap='binary')\n",
    "            plt.show()\n",
    "            flattened = np.array([np.ndarray.flatten(userImage)])\n",
    "            result = MNISTnetwork(flattened)\n",
    "        else:\n",
    "            i = int(i)\n",
    "            reshaped = np.reshape(mnist.data[i],(28,28))\n",
    "            plt.imshow(reshaped, cmap='binary')\n",
    "            plt.show()\n",
    "            img = Image.fromarray(reshaped*16).convert('L')\n",
    "            img.save('image.bmp')\n",
    "            print(\"target: \", mnist.target[i])\n",
    "            result = MNISTnetwork(mnist.data[i])\n",
    "        print(\"result: \", result.round(2))\n",
    "        print(f\"Guess: {np.argmax(result)}\")\n",
    "\n",
    "\n",
    "doMNIST()\n",
    "#doXOR(epsilonXOR, architectureXOR)"
   ]
  },
  {
   "attachments": {},
   "cell_type": "markdown",
   "metadata": {
    "collapsed": false
   },
   "source": [
    "# Wnioski\n",
    "\n",
    "## Eksperyment XOR\n",
    "\n",
    "Potwierdzenie działania sieci neuronowej. Potrafi rozwiązać problem nawet z jedną warstwą ukrytą o rozmiarze 2, choć wymaga to średnio 500 epok do znalezienia idealnego rozwiązania.\n",
    "\n",
    "Ważny tutaj jest rozmiar warstw ukrytych, a nie ilość. Pozostając przy jednej warstwie ukrytej, a zwiększając ilość neuronów, sieć potrzebuje coraz mniej epok:\n",
    "\n",
    "rozmiar a ilość potrzebnych epok (w przybliżeniu)\n",
    "2x1: 800\n",
    "3x1: 500\n",
    "4x1: 400\n",
    "10x1: 200\n",
    "\n",
    "Paradoksalnie, poszerzanie sieci bez zwiększania rozmiaru warstw powoduje wpadanie w nieprawidłowe minimum lokalne, wtedy sieć zwraca około 0.5 dla każdej próby i stoi w miejscu z wagami.\n",
    "\n",
    "Próby z głębokimi sieciami typu 10x10 również dają się trenować, ale potrafi to zająć bardzo dużo epok (kilka tysięcy) a nie daje lepszego efektu w tym problemie..\n",
    "\n",
    "## MINST\n",
    "\n",
    "Funkcja błedu to średnia różnic kwadratowych wyniku sieci od prawidłowej odpowiedzi.\n",
    "Do policzenia błędu dla danej epoki sumuję błedy dla każdego przypadku treningowego, wtedy wiadomo jak to wychodzi średnio dla wszystkich danych. Również po skończeniu treningu sprawdzam na ile próbek z całego zbioru sieć odpowiada dobrze. \n",
    "\n",
    "Wybranie poprawnej architektury sieci jest trudne, oto kilka prób i trafność sieci po 100 epokach:\n",
    "(seed ustawiany poprzez np.random.seed(n), wpływa na to jak losowane są wagi w sieci)\n",
    "\n",
    "Architektura            Seed 0      Seed 1      Seed 2\n",
    "* [64, 32, 16, 8, 4]    50.31%      50.42%      48.41%\n",
    "* [100, 50, 20]         96.33%      99.39%      99.72%\n",
    "* [50, 50, 50]          97.44%      95.99%      98.11%\n",
    "* [200, 100, 50, 20]    >99.9%      >99.9%      >99.9%\n",
    "* [200, 100]            >99.9%      98.23%      99.61%\n",
    "* [50, 20, 10] (*)      99.00%      99.22%      95.83%    \n",
    "* [50, 30, 20, 10]      93.16%      95.43%      93.11%\n",
    "* [30]                  93.49%      95.27%\n",
    "\n",
    "Do bardziej manualnych testów wybrałem taką (*) architekturę, bo ma dobre wyniki i jest dosyć szybka. Można wyrywkowo pytać sieć o jakieś cyfry ze zbioru, można też załadować ręcznie narysowaną cyfre (plik `image.bmp`) i wytrenowana sieć spróbuje ją odczytać. Wyniki nie są takie optymistyczne, prawdopodobnie zachodzi przeuczenie, ale i tak większość prób działa."
   ]
  }
 ],
 "metadata": {
  "kernelspec": {
   "display_name": "Python 3.8.10 64-bit",
   "language": "python",
   "name": "python3"
  },
  "language_info": {
   "codemirror_mode": {
    "name": "ipython",
    "version": 3
   },
   "file_extension": ".py",
   "mimetype": "text/x-python",
   "name": "python",
   "nbconvert_exporter": "python",
   "pygments_lexer": "ipython3",
   "version": "3.8.10"
  },
  "vscode": {
   "interpreter": {
    "hash": "e7370f93d1d0cde622a1f8e1c04877d8463912d04d973331ad4851f04de6915a"
   }
  }
 },
 "nbformat": 4,
 "nbformat_minor": 0
}
